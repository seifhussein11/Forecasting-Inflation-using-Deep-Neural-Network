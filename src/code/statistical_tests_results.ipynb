{
  "nbformat": 4,
  "nbformat_minor": 0,
  "metadata": {
    "colab": {
      "provenance": []
    },
    "kernelspec": {
      "name": "python3",
      "display_name": "Python 3"
    },
    "language_info": {
      "name": "python"
    }
  },
  "cells": [
    {
      "cell_type": "code",
      "execution_count": null,
      "metadata": {
        "id": "GlprvdmT3sc7"
      },
      "outputs": [],
      "source": [
        "uk_lag_rmse = [0.106433031608243, 0.0883430561901355, 0.116421024904131, 0.0910596544381969, 0.100208681376125, 0.100848878599139, 0.11624823847322, 0.102217867192331, 0.0995050637492022, 0.112073833478757]\n",
        "\n"
      ]
    },
    {
      "cell_type": "code",
      "source": [
        "uk_all_rmse= [ 0.222369289525825, 0.158751141224194, 0.101096567766779, 0.120286611060392, 0.188461376796713, 0.17512336165325, 0.177194527498684, 0.193216724573881, 0.133528730524632, 0.112603688930795]"
      ],
      "metadata": {
        "id": "b1zbi9eA4guZ"
      },
      "execution_count": null,
      "outputs": []
    },
    {
      "cell_type": "code",
      "source": [
        "from scipy.stats import wilcoxon"
      ],
      "metadata": {
        "id": "tIp-vyUi4slG"
      },
      "execution_count": null,
      "outputs": []
    },
    {
      "cell_type": "code",
      "source": [
        "statistic, p_value = wilcoxon(uk_lag_rmse, uk_all_rmse)\n",
        "\n",
        "print(\"Wilcoxon signed-rank test statistic:\", statistic)\n",
        "print(\"p-value:\", p_value)\n"
      ],
      "metadata": {
        "colab": {
          "base_uri": "https://localhost:8080/"
        },
        "id": "GSoNhKLh4xKX",
        "outputId": "30456369-01ba-454b-f80f-052347f7c36c"
      },
      "execution_count": null,
      "outputs": [
        {
          "output_type": "stream",
          "name": "stdout",
          "text": [
            "Wilcoxon signed-rank test statistic: 2.0\n",
            "p-value: 0.005859375\n"
          ]
        }
      ]
    },
    {
      "cell_type": "code",
      "source": [
        "alpha = 0.05\n",
        "if p_value < alpha:\n",
        "    print(\"Reject the null hypothesis. The difference in performance is statistically significant.\")\n",
        "else:\n",
        "    print(\"Fail to reject the null hypothesis. The difference in performance is not statistically significant.\")"
      ],
      "metadata": {
        "colab": {
          "base_uri": "https://localhost:8080/"
        },
        "id": "M9JTdOS-5E1p",
        "outputId": "a04195bd-fb73-4d0a-97f4-f7f6f9fbf34f"
      },
      "execution_count": null,
      "outputs": [
        {
          "output_type": "stream",
          "name": "stdout",
          "text": [
            "Reject the null hypothesis. The difference in performance is statistically significant.\n"
          ]
        }
      ]
    },
    {
      "cell_type": "code",
      "source": [
        "US_lag_rmse = [0.0935746328753905, 0.102591056926684, 0.0926468768132299, 0.093288778886558, 0.0908357140297725, 0.0925322690875125, 0.0982845110257245, 0.103860329497701, 0.0900058406311807, 0.0914267020021614]"
      ],
      "metadata": {
        "id": "sIIuoZaIB1BH"
      },
      "execution_count": null,
      "outputs": []
    },
    {
      "cell_type": "code",
      "source": [
        "US_all_rmse = [0.0897442618938667, 0.0903590236607331, 0.0862973802503438, 0.0907659340050042, 0.0892304404295797, 0.0991945653325318, 0.0931176960971427, 0.0953782230858808, 0.0920360315099653, 0.0898003886335153]"
      ],
      "metadata": {
        "id": "zHyENNvQB_ez"
      },
      "execution_count": null,
      "outputs": []
    },
    {
      "cell_type": "code",
      "source": [
        "statistic, p_value = wilcoxon(US_lag_rmse, US_all_rmse)\n",
        "\n",
        "print(\"Wilcoxon signed-rank test statistic:\", statistic)\n",
        "print(\"p-value:\", p_value)"
      ],
      "metadata": {
        "colab": {
          "base_uri": "https://localhost:8080/"
        },
        "id": "RloI33DJCSD4",
        "outputId": "cf4990ed-72be-4d08-c103-28072ff949ce"
      },
      "execution_count": null,
      "outputs": [
        {
          "output_type": "stream",
          "name": "stdout",
          "text": [
            "Wilcoxon signed-rank test statistic: 11.0\n",
            "p-value: 0.10546875\n"
          ]
        }
      ]
    },
    {
      "cell_type": "code",
      "source": [
        "alpha = 0.05\n",
        "if p_value < alpha:\n",
        "    print(\"Reject the null hypothesis. The difference in performance is statistically significant.\")\n",
        "else:\n",
        "    print(\"Fail to reject the null hypothesis. The difference in performance is not statistically significant.\")"
      ],
      "metadata": {
        "colab": {
          "base_uri": "https://localhost:8080/"
        },
        "id": "EXfQz3v_CaRk",
        "outputId": "ef5186c7-86b8-42bf-f113-903ceab7eea4"
      },
      "execution_count": null,
      "outputs": [
        {
          "output_type": "stream",
          "name": "stdout",
          "text": [
            "Fail to reject the null hypothesis. The difference in performance is not statistically significant.\n"
          ]
        }
      ]
    },
    {
      "cell_type": "code",
      "source": [
        "UK_on_UK_set = [0.106433031608243, 0.0883430561901355, 0.116421024904131, 0.0910596544381969, 0.100208681376125, 0.100848878599139, 0.11624823847322, 0.102217867192331, 0.0995050637492022, 0.112073833478757]"
      ],
      "metadata": {
        "id": "bwmnbZx2CCXB"
      },
      "execution_count": null,
      "outputs": []
    },
    {
      "cell_type": "code",
      "source": [
        "UK_on_US_set= [ 0.108801765782452, 0.128688291084698, 0.0987487456638161, 0.10011387296485, 0.118626196321082, 0.154237379893229, 0.103667454515044, 0.127030596825109, 0.110530031023885, 0.107051084221608]"
      ],
      "metadata": {
        "id": "WyCdr6Pr5CRG"
      },
      "execution_count": null,
      "outputs": []
    },
    {
      "cell_type": "code",
      "source": [
        "statistic, p_value = wilcoxon(UK_on_UK_set, UK_on_US_set)\n",
        "\n",
        "print(\"Wilcoxon signed-rank test statistic:\", statistic)\n",
        "print(\"p-value:\", p_value)"
      ],
      "metadata": {
        "colab": {
          "base_uri": "https://localhost:8080/"
        },
        "id": "RVKBe6g_5N3e",
        "outputId": "fef6c10c-c60a-43c9-a0ba-e5adc5f17c17"
      },
      "execution_count": null,
      "outputs": [
        {
          "output_type": "stream",
          "name": "stdout",
          "text": [
            "Wilcoxon signed-rank test statistic: 13.0\n",
            "p-value: 0.16015625\n"
          ]
        }
      ]
    },
    {
      "cell_type": "code",
      "source": [
        "alpha = 0.05\n",
        "if p_value < alpha:\n",
        "    print(\"Reject the null hypothesis. The difference in performance is statistically significant.\")\n",
        "else:\n",
        "    print(\"Fail to reject the null hypothesis. The difference in performance is not statistically significant.\")"
      ],
      "metadata": {
        "colab": {
          "base_uri": "https://localhost:8080/"
        },
        "id": "OnPEGo1J5Lat",
        "outputId": "d67661e9-a1dd-41cb-c988-7ef73a48f648"
      },
      "execution_count": null,
      "outputs": [
        {
          "output_type": "stream",
          "name": "stdout",
          "text": [
            "Fail to reject the null hypothesis. The difference in performance is not statistically significant.\n"
          ]
        }
      ]
    },
    {
      "cell_type": "code",
      "source": [
        "US_on_US_set =  [0.0935746328753905, 0.102591056926684, 0.0926468768132299, 0.093288778886558, 0.0908357140297725, 0.0925322690875125, 0.0982845110257245, 0.103860329497701, 0.0900058406311807, 0.0914267020021614]"
      ],
      "metadata": {
        "id": "PPwXcl_W6N4W"
      },
      "execution_count": null,
      "outputs": []
    },
    {
      "cell_type": "code",
      "source": [
        "US_on_UK_set = [ 0.125105646110384, 0.114396591761401, 0.105182330041493, 0.115276872812734, 0.110564678822735, 0.122556029364277, 0.104681707019809, 0.0997492730125421, 0.105886815369252, 0.122167958888854]"
      ],
      "metadata": {
        "id": "muBMohlS6X1U"
      },
      "execution_count": null,
      "outputs": []
    },
    {
      "cell_type": "code",
      "source": [
        "statistic, p_value = wilcoxon(US_on_US_set, US_on_UK_set)\n",
        "\n",
        "print(\"Wilcoxon signed-rank test statistic:\", statistic)\n",
        "print(\"p-value:\", p_value)"
      ],
      "metadata": {
        "colab": {
          "base_uri": "https://localhost:8080/"
        },
        "id": "w2ral-dd6lJu",
        "outputId": "e7b73591-6989-4eb2-9db7-bedc07511383"
      },
      "execution_count": null,
      "outputs": [
        {
          "output_type": "stream",
          "name": "stdout",
          "text": [
            "Wilcoxon signed-rank test statistic: 1.0\n",
            "p-value: 0.00390625\n"
          ]
        }
      ]
    },
    {
      "cell_type": "code",
      "source": [
        "alpha = 0.05\n",
        "if p_value < alpha:\n",
        "    print(\"Reject the null hypothesis. The difference in performance is statistically significant.\")\n",
        "else:\n",
        "    print(\"Fail to reject the null hypothesis. The difference in performance is not statistically significant.\")"
      ],
      "metadata": {
        "colab": {
          "base_uri": "https://localhost:8080/"
        },
        "id": "bgiVoMJI6vPu",
        "outputId": "5cc25b30-7f0d-48c3-9d6c-e779a169456d"
      },
      "execution_count": null,
      "outputs": [
        {
          "output_type": "stream",
          "name": "stdout",
          "text": [
            "Reject the null hypothesis. The difference in performance is statistically significant.\n"
          ]
        }
      ]
    },
    {
      "cell_type": "code",
      "source": [
        "import matplotlib.pyplot as plt\n",
        "import numpy as np\n",
        "\n",
        "# Data\n",
        "categories = ['Lagging only', 'All']\n",
        "values = [ 0.1033, 0.1583]\n",
        "\n",
        "# Define colors with different shades\n",
        "\n",
        "color1 = 'steelblue'\n",
        "\n",
        "color2 = 'darkgreen'\n",
        "color3 = \"darkred\"\n",
        "color4 = \"goldenrod\"\n",
        "color5 = \"darkcyan\"\n",
        "color6= \"darkmagenta\"\n",
        "color7 = \"darksalmon\"\n",
        "color8 = \"dimgrey\"\n",
        "\n",
        "# Define the positions of the bars\n",
        "x_positions = np.arange(len(categories))  # Generate evenly spaced x positions\n",
        "\n",
        "# Plotting\n",
        "plt.figure(figsize=(9.5, 8))\n",
        "\n",
        "# Plot bars for Category 1 and 2 with different shades of color1\n",
        "bars = plt.bar(x_positions - 0.15, values, color=[color3, color4], width=0.3)  # Adjust the x position and width\n",
        "\n",
        "plt.xlabel('UK Models', fontsize=28)\n",
        "plt.ylabel('RMSE Values', fontsize=28)\n",
        "plt.title('UK models RMSE', fontsize=30)\n",
        "\n",
        "plt.xticks(x_positions, categories, fontsize=18)  # Set the x-tick labels and font size\n",
        "plt.yticks(fontsize=18)  # Set the y-tick font size\n",
        "\n",
        "# Add legend\n",
        "plt.legend(bars, ['Lagging only', 'All'], fontsize=24)\n",
        "\n",
        "plt.tight_layout()  # Adjust layout to prevent clipping of labels\n",
        "plt.show()\n"
      ],
      "metadata": {
        "colab": {
          "base_uri": "https://localhost:8080/",
          "height": 807
        },
        "id": "CR7KeCMvvAYF",
        "outputId": "c6f1a417-7e3b-455b-e064-f68a0d24b272"
      },
      "execution_count": null,
      "outputs": [
        {
          "output_type": "display_data",
          "data": {
            "text/plain": [
              "<Figure size 950x800 with 1 Axes>"
            ],
            "image/png": "[encoded data removed]"
          },
          "metadata": {}
        }
      ]
    }
  ]
}