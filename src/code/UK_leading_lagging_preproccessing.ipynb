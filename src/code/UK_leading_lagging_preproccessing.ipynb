{
 "cells": [
  {
   "cell_type": "code",
   "execution_count": 2,
   "id": "eca6acc4",
   "metadata": {},
   "outputs": [],
   "source": [
    "import pandas as pd\n",
    "from scipy.stats import pearsonr\n",
    "from statsmodels.tsa.stattools import adfuller\n",
    "from sklearn.preprocessing import MinMaxScaler"
   ]
  },
  {
   "cell_type": "code",
   "execution_count": 4,
   "id": "01cd15bb",
   "metadata": {},
   "outputs": [
    {
     "data": {
      "text/html": [
       "<div>\n",
       "<style scoped>\n",
       "    .dataframe tbody tr th:only-of-type {\n",
       "        vertical-align: middle;\n",
       "    }\n",
       "\n",
       "    .dataframe tbody tr th {\n",
       "        vertical-align: top;\n",
       "    }\n",
       "\n",
       "    .dataframe thead th {\n",
       "        text-align: right;\n",
       "    }\n",
       "</style>\n",
       "<table border=\"1\" class=\"dataframe\">\n",
       "  <thead>\n",
       "    <tr style=\"text-align: right;\">\n",
       "      <th></th>\n",
       "      <th>Date</th>\n",
       "      <th>CPI</th>\n",
       "    </tr>\n",
       "  </thead>\n",
       "  <tbody>\n",
       "    <tr>\n",
       "      <th>0</th>\n",
       "      <td>1960-04-01</td>\n",
       "      <td>0.034043</td>\n",
       "    </tr>\n",
       "    <tr>\n",
       "      <th>1</th>\n",
       "      <td>1960-07-01</td>\n",
       "      <td>0.008511</td>\n",
       "    </tr>\n",
       "    <tr>\n",
       "      <th>2</th>\n",
       "      <td>1960-10-01</td>\n",
       "      <td>0.059575</td>\n",
       "    </tr>\n",
       "    <tr>\n",
       "      <th>3</th>\n",
       "      <td>1961-01-01</td>\n",
       "      <td>0.030639</td>\n",
       "    </tr>\n",
       "    <tr>\n",
       "      <th>4</th>\n",
       "      <td>1961-04-01</td>\n",
       "      <td>0.071490</td>\n",
       "    </tr>\n",
       "    <tr>\n",
       "      <th>...</th>\n",
       "      <td>...</td>\n",
       "      <td>...</td>\n",
       "    </tr>\n",
       "    <tr>\n",
       "      <th>246</th>\n",
       "      <td>2021-10-01</td>\n",
       "      <td>2.100000</td>\n",
       "    </tr>\n",
       "    <tr>\n",
       "      <th>247</th>\n",
       "      <td>2022-01-01</td>\n",
       "      <td>1.400000</td>\n",
       "    </tr>\n",
       "    <tr>\n",
       "      <th>248</th>\n",
       "      <td>2022-04-01</td>\n",
       "      <td>4.200000</td>\n",
       "    </tr>\n",
       "    <tr>\n",
       "      <th>249</th>\n",
       "      <td>2022-07-01</td>\n",
       "      <td>2.100000</td>\n",
       "    </tr>\n",
       "    <tr>\n",
       "      <th>250</th>\n",
       "      <td>2022-10-01</td>\n",
       "      <td>3.000000</td>\n",
       "    </tr>\n",
       "  </tbody>\n",
       "</table>\n",
       "<p>251 rows × 2 columns</p>\n",
       "</div>"
      ],
      "text/plain": [
       "          Date       CPI\n",
       "0   1960-04-01  0.034043\n",
       "1   1960-07-01  0.008511\n",
       "2   1960-10-01  0.059575\n",
       "3   1961-01-01  0.030639\n",
       "4   1961-04-01  0.071490\n",
       "..         ...       ...\n",
       "246 2021-10-01  2.100000\n",
       "247 2022-01-01  1.400000\n",
       "248 2022-04-01  4.200000\n",
       "249 2022-07-01  2.100000\n",
       "250 2022-10-01  3.000000\n",
       "\n",
       "[251 rows x 2 columns]"
      ]
     },
     "execution_count": 4,
     "metadata": {},
     "output_type": "execute_result"
    }
   ],
   "source": [
    "file_CPI = \"UK_CPI_CHANGE.xlsx\"\n",
    "data_CPI = pd.read_excel(file_CPI)\n",
    "df_CPI = pd.DataFrame(data_CPI)\n",
    "df_CPI\n"
   ]
  },
  {
   "cell_type": "code",
   "execution_count": 5,
   "id": "cb8ee0a2",
   "metadata": {},
   "outputs": [
    {
     "data": {
      "text/html": [
       "<div>\n",
       "<style scoped>\n",
       "    .dataframe tbody tr th:only-of-type {\n",
       "        vertical-align: middle;\n",
       "    }\n",
       "\n",
       "    .dataframe tbody tr th {\n",
       "        vertical-align: top;\n",
       "    }\n",
       "\n",
       "    .dataframe thead th {\n",
       "        text-align: right;\n",
       "    }\n",
       "</style>\n",
       "<table border=\"1\" class=\"dataframe\">\n",
       "  <thead>\n",
       "    <tr style=\"text-align: right;\">\n",
       "      <th></th>\n",
       "      <th>Date</th>\n",
       "      <th>Interest Rates</th>\n",
       "    </tr>\n",
       "  </thead>\n",
       "  <tbody>\n",
       "    <tr>\n",
       "      <th>0</th>\n",
       "      <td>1960-04-01</td>\n",
       "      <td>6.61765</td>\n",
       "    </tr>\n",
       "    <tr>\n",
       "      <th>1</th>\n",
       "      <td>1960-07-01</td>\n",
       "      <td>4.25287</td>\n",
       "    </tr>\n",
       "    <tr>\n",
       "      <th>2</th>\n",
       "      <td>1960-10-01</td>\n",
       "      <td>1.48842</td>\n",
       "    </tr>\n",
       "    <tr>\n",
       "      <th>3</th>\n",
       "      <td>1961-01-01</td>\n",
       "      <td>-1.08637</td>\n",
       "    </tr>\n",
       "    <tr>\n",
       "      <th>4</th>\n",
       "      <td>1961-04-01</td>\n",
       "      <td>1.37287</td>\n",
       "    </tr>\n",
       "    <tr>\n",
       "      <th>...</th>\n",
       "      <td>...</td>\n",
       "      <td>...</td>\n",
       "    </tr>\n",
       "    <tr>\n",
       "      <th>246</th>\n",
       "      <td>2021-10-01</td>\n",
       "      <td>33.37842</td>\n",
       "    </tr>\n",
       "    <tr>\n",
       "      <th>247</th>\n",
       "      <td>2022-01-01</td>\n",
       "      <td>48.25344</td>\n",
       "    </tr>\n",
       "    <tr>\n",
       "      <th>248</th>\n",
       "      <td>2022-04-01</td>\n",
       "      <td>44.47275</td>\n",
       "    </tr>\n",
       "    <tr>\n",
       "      <th>249</th>\n",
       "      <td>2022-07-01</td>\n",
       "      <td>30.17550</td>\n",
       "    </tr>\n",
       "    <tr>\n",
       "      <th>250</th>\n",
       "      <td>2022-10-01</td>\n",
       "      <td>38.30372</td>\n",
       "    </tr>\n",
       "  </tbody>\n",
       "</table>\n",
       "<p>251 rows × 2 columns</p>\n",
       "</div>"
      ],
      "text/plain": [
       "          Date  Interest Rates\n",
       "0   1960-04-01         6.61765\n",
       "1   1960-07-01         4.25287\n",
       "2   1960-10-01         1.48842\n",
       "3   1961-01-01        -1.08637\n",
       "4   1961-04-01         1.37287\n",
       "..         ...             ...\n",
       "246 2021-10-01        33.37842\n",
       "247 2022-01-01        48.25344\n",
       "248 2022-04-01        44.47275\n",
       "249 2022-07-01        30.17550\n",
       "250 2022-10-01        38.30372\n",
       "\n",
       "[251 rows x 2 columns]"
      ]
     },
     "execution_count": 5,
     "metadata": {},
     "output_type": "execute_result"
    }
   ],
   "source": [
    "file_INT_RATES = \"UK_INT_RATES_CHANGE_TRIAL.xlsx\"\n",
    "data_INT_RATES = pd.read_excel(file_INT_RATES)\n",
    "df_INT_RATES = pd.DataFrame(data_INT_RATES)\n",
    "df_INT_RATES\n"
   ]
  },
  {
   "cell_type": "code",
   "execution_count": 6,
   "id": "8f8aad64",
   "metadata": {},
   "outputs": [
    {
     "data": {
      "text/html": [
       "<div>\n",
       "<style scoped>\n",
       "    .dataframe tbody tr th:only-of-type {\n",
       "        vertical-align: middle;\n",
       "    }\n",
       "\n",
       "    .dataframe tbody tr th {\n",
       "        vertical-align: top;\n",
       "    }\n",
       "\n",
       "    .dataframe thead th {\n",
       "        text-align: right;\n",
       "    }\n",
       "</style>\n",
       "<table border=\"1\" class=\"dataframe\">\n",
       "  <thead>\n",
       "    <tr style=\"text-align: right;\">\n",
       "      <th></th>\n",
       "      <th>Date</th>\n",
       "      <th>GDP</th>\n",
       "    </tr>\n",
       "  </thead>\n",
       "  <tbody>\n",
       "    <tr>\n",
       "      <th>0</th>\n",
       "      <td>1960-04-01</td>\n",
       "      <td>59</td>\n",
       "    </tr>\n",
       "    <tr>\n",
       "      <th>1</th>\n",
       "      <td>1960-07-01</td>\n",
       "      <td>94</td>\n",
       "    </tr>\n",
       "    <tr>\n",
       "      <th>2</th>\n",
       "      <td>1960-10-01</td>\n",
       "      <td>136</td>\n",
       "    </tr>\n",
       "    <tr>\n",
       "      <th>3</th>\n",
       "      <td>1961-01-01</td>\n",
       "      <td>167</td>\n",
       "    </tr>\n",
       "    <tr>\n",
       "      <th>4</th>\n",
       "      <td>1961-04-01</td>\n",
       "      <td>0</td>\n",
       "    </tr>\n",
       "    <tr>\n",
       "      <th>...</th>\n",
       "      <td>...</td>\n",
       "      <td>...</td>\n",
       "    </tr>\n",
       "    <tr>\n",
       "      <th>246</th>\n",
       "      <td>2021-10-01</td>\n",
       "      <td>15168</td>\n",
       "    </tr>\n",
       "    <tr>\n",
       "      <th>247</th>\n",
       "      <td>2022-01-01</td>\n",
       "      <td>11655</td>\n",
       "    </tr>\n",
       "    <tr>\n",
       "      <th>248</th>\n",
       "      <td>2022-04-01</td>\n",
       "      <td>12943</td>\n",
       "    </tr>\n",
       "    <tr>\n",
       "      <th>249</th>\n",
       "      <td>2022-07-01</td>\n",
       "      <td>9303</td>\n",
       "    </tr>\n",
       "    <tr>\n",
       "      <th>250</th>\n",
       "      <td>2022-10-01</td>\n",
       "      <td>15230</td>\n",
       "    </tr>\n",
       "  </tbody>\n",
       "</table>\n",
       "<p>251 rows × 2 columns</p>\n",
       "</div>"
      ],
      "text/plain": [
       "          Date    GDP\n",
       "0   1960-04-01     59\n",
       "1   1960-07-01     94\n",
       "2   1960-10-01    136\n",
       "3   1961-01-01    167\n",
       "4   1961-04-01      0\n",
       "..         ...    ...\n",
       "246 2021-10-01  15168\n",
       "247 2022-01-01  11655\n",
       "248 2022-04-01  12943\n",
       "249 2022-07-01   9303\n",
       "250 2022-10-01  15230\n",
       "\n",
       "[251 rows x 2 columns]"
      ]
     },
     "execution_count": 6,
     "metadata": {},
     "output_type": "execute_result"
    }
   ],
   "source": [
    "file_GDP = \"UK_GDP_CHANGE.xlsx\"\n",
    "data_GDP = pd.read_excel(file_GDP)\n",
    "df_GDP = pd.DataFrame(data_GDP)\n",
    "df_GDP"
   ]
  },
  {
   "cell_type": "code",
   "execution_count": 7,
   "id": "0c3923f0",
   "metadata": {},
   "outputs": [
    {
     "data": {
      "text/html": [
       "<div>\n",
       "<style scoped>\n",
       "    .dataframe tbody tr th:only-of-type {\n",
       "        vertical-align: middle;\n",
       "    }\n",
       "\n",
       "    .dataframe tbody tr th {\n",
       "        vertical-align: top;\n",
       "    }\n",
       "\n",
       "    .dataframe thead th {\n",
       "        text-align: right;\n",
       "    }\n",
       "</style>\n",
       "<table border=\"1\" class=\"dataframe\">\n",
       "  <thead>\n",
       "    <tr style=\"text-align: right;\">\n",
       "      <th></th>\n",
       "      <th>Date</th>\n",
       "      <th>PPI</th>\n",
       "    </tr>\n",
       "  </thead>\n",
       "  <tbody>\n",
       "    <tr>\n",
       "      <th>0</th>\n",
       "      <td>1960-04-01</td>\n",
       "      <td>0.063571</td>\n",
       "    </tr>\n",
       "    <tr>\n",
       "      <th>1</th>\n",
       "      <td>1960-07-01</td>\n",
       "      <td>0.036025</td>\n",
       "    </tr>\n",
       "    <tr>\n",
       "      <th>2</th>\n",
       "      <td>1960-10-01</td>\n",
       "      <td>0.023312</td>\n",
       "    </tr>\n",
       "    <tr>\n",
       "      <th>3</th>\n",
       "      <td>1961-01-01</td>\n",
       "      <td>0.052975</td>\n",
       "    </tr>\n",
       "    <tr>\n",
       "      <th>4</th>\n",
       "      <td>1961-04-01</td>\n",
       "      <td>0.052980</td>\n",
       "    </tr>\n",
       "    <tr>\n",
       "      <th>...</th>\n",
       "      <td>...</td>\n",
       "      <td>...</td>\n",
       "    </tr>\n",
       "    <tr>\n",
       "      <th>246</th>\n",
       "      <td>2021-10-01</td>\n",
       "      <td>3.633031</td>\n",
       "    </tr>\n",
       "    <tr>\n",
       "      <th>247</th>\n",
       "      <td>2022-01-01</td>\n",
       "      <td>4.599617</td>\n",
       "    </tr>\n",
       "    <tr>\n",
       "      <th>248</th>\n",
       "      <td>2022-04-01</td>\n",
       "      <td>9.165903</td>\n",
       "    </tr>\n",
       "    <tr>\n",
       "      <th>249</th>\n",
       "      <td>2022-07-01</td>\n",
       "      <td>4.499625</td>\n",
       "    </tr>\n",
       "    <tr>\n",
       "      <th>250</th>\n",
       "      <td>2022-10-01</td>\n",
       "      <td>0.833264</td>\n",
       "    </tr>\n",
       "  </tbody>\n",
       "</table>\n",
       "<p>251 rows × 2 columns</p>\n",
       "</div>"
      ],
      "text/plain": [
       "          Date       PPI\n",
       "0   1960-04-01  0.063571\n",
       "1   1960-07-01  0.036025\n",
       "2   1960-10-01  0.023312\n",
       "3   1961-01-01  0.052975\n",
       "4   1961-04-01  0.052980\n",
       "..         ...       ...\n",
       "246 2021-10-01  3.633031\n",
       "247 2022-01-01  4.599617\n",
       "248 2022-04-01  9.165903\n",
       "249 2022-07-01  4.499625\n",
       "250 2022-10-01  0.833264\n",
       "\n",
       "[251 rows x 2 columns]"
      ]
     },
     "execution_count": 7,
     "metadata": {},
     "output_type": "execute_result"
    }
   ],
   "source": [
    "file_PPI = \"UK_PPI_CHANGE.xlsx\"\n",
    "data_PPI  = pd.read_excel(file_PPI )\n",
    "df_PPI  = pd.DataFrame(data_PPI )\n",
    "df_PPI "
   ]
  },
  {
   "cell_type": "code",
   "execution_count": 120,
   "id": "4574d88e",
   "metadata": {},
   "outputs": [
    {
     "name": "stdout",
     "output_type": "stream",
     "text": [
      "Pearson Correlation Coefficient: 0.2329019739321103\n",
      "P-value: 0.0001970514417139371\n",
      "There is a significant correlation.\n"
     ]
    }
   ],
   "source": [
    "merged_df_GDP = pd.merge(df_CPI, df_GDP, on='Date')\n",
    "merged_df_GDP\n",
    "values_CPI = merged_df_GDP['CPI']\n",
    "values_GDP = merged_df_GDP['GDP']\n",
    "\n",
    "correlation_coefficient, p_value = pearsonr(values_CPI, values_GDP)\n",
    "\n",
    "# Display the results\n",
    "print(f\"Pearson Correlation Coefficient: {correlation_coefficient}\")\n",
    "print(f\"P-value: {p_value}\")\n",
    "\n",
    "# Interpret the results\n",
    "alpha = 0.05  # significance level\n",
    "if p_value < alpha:\n",
    "    print(\"There is a significant correlation.\")\n",
    "else:\n",
    "    print(\"There is no significant correlation.\")"
   ]
  },
  {
   "cell_type": "code",
   "execution_count": 121,
   "id": "6a17fd80",
   "metadata": {},
   "outputs": [
    {
     "name": "stdout",
     "output_type": "stream",
     "text": [
      "Pearson Correlation Coefficient: 0.7097261892472445\n",
      "P-value: 9.323095668677183e-40\n",
      "There is a significant correlation.\n"
     ]
    }
   ],
   "source": [
    "merged_df_PPI= pd.merge(df_CPI, df_PPI, on='Date')\n",
    "merged_df_PPI\n",
    "values_CPI = merged_df_PPI['CPI']\n",
    "values_PPI = merged_df_PPI['PPI']\n",
    "\n",
    "correlation_coefficient, p_value = pearsonr(values_CPI, values_PPI)\n",
    "\n",
    "# Display the results\n",
    "print(f\"Pearson Correlation Coefficient: {correlation_coefficient}\")\n",
    "print(f\"P-value: {p_value}\")\n",
    "\n",
    "# Interpret the results\n",
    "alpha = 0.05  # significance level\n",
    "if p_value < alpha:\n",
    "    print(\"There is a significant correlation.\")\n",
    "else:\n",
    "    print(\"There is no significant correlation.\")"
   ]
  },
  {
   "cell_type": "code",
   "execution_count": 8,
   "id": "ee6a16ca",
   "metadata": {},
   "outputs": [
    {
     "name": "stdout",
     "output_type": "stream",
     "text": [
      "Pearson Correlation Coefficient: 0.29640361116811637\n",
      "P-value: 1.7500639759781785e-06\n",
      "There is a significant correlation.\n"
     ]
    }
   ],
   "source": [
    "merged_df_INT_RATES= pd.merge(df_CPI, df_INT_RATES, on='Date')\n",
    "merged_df_INT_RATES\n",
    "values_CPI = merged_df_INT_RATES['CPI']\n",
    "values_INT_RATES = merged_df_INT_RATES['Interest Rates']\n",
    "\n",
    "correlation_coefficient, p_value = pearsonr(values_CPI, values_INT_RATES)\n",
    "\n",
    "# Display the results\n",
    "print(f\"Pearson Correlation Coefficient: {correlation_coefficient}\")\n",
    "print(f\"P-value: {p_value}\")\n",
    "\n",
    "# Interpret the results\n",
    "alpha = 0.05  # significance level\n",
    "if p_value < alpha:\n",
    "    print(\"There is a significant correlation.\")\n",
    "else:\n",
    "    print(\"There is no significant correlation.\")"
   ]
  },
  {
   "cell_type": "code",
   "execution_count": 126,
   "id": "1e041128",
   "metadata": {},
   "outputs": [],
   "source": [
    "merged_indicators = pd.DataFrame(df_CPI[\"Date\"])"
   ]
  },
  {
   "cell_type": "code",
   "execution_count": 127,
   "id": "2b482ec9",
   "metadata": {},
   "outputs": [],
   "source": [
    "merged_indicators[\"CPI\"] = df_CPI[\"CPI\"]"
   ]
  },
  {
   "cell_type": "code",
   "execution_count": 128,
   "id": "f6ba7422",
   "metadata": {},
   "outputs": [],
   "source": [
    "merged_indicators[\"GDP\"] = df_GDP[\"GDP\"]"
   ]
  },
  {
   "cell_type": "code",
   "execution_count": 99,
   "id": "f4c960c7",
   "metadata": {},
   "outputs": [],
   "source": [
    "merged_indicators[\"PPI\"] = df_PPI[\"PPI\"]"
   ]
  },
  {
   "cell_type": "code",
   "execution_count": 129,
   "id": "84088e5e",
   "metadata": {},
   "outputs": [],
   "source": [
    "merged_indicators[\"Interest Rates\"] = df_INT_RATES[\"Interest Rates\"]"
   ]
  },
  {
   "cell_type": "code",
   "execution_count": 131,
   "id": "c5e420bb",
   "metadata": {},
   "outputs": [],
   "source": [
    "date = merged_indicators[\"Date\"].to_numpy()\n"
   ]
  },
  {
   "cell_type": "code",
   "execution_count": 132,
   "id": "7ba1576e",
   "metadata": {},
   "outputs": [],
   "source": [
    "del merged_indicators['Date']"
   ]
  },
  {
   "cell_type": "code",
   "execution_count": 133,
   "id": "57e85ca4",
   "metadata": {},
   "outputs": [],
   "source": [
    "del merged_indicators['CPI']"
   ]
  },
  {
   "cell_type": "code",
   "execution_count": 134,
   "id": "6d3f8949",
   "metadata": {},
   "outputs": [],
   "source": [
    "merged_indicators[\"CPI\"] = df_CPI[\"CPI\"]"
   ]
  },
  {
   "cell_type": "code",
   "execution_count": 135,
   "id": "c23a288d",
   "metadata": {},
   "outputs": [],
   "source": [
    "scaler = MinMaxScaler()"
   ]
  },
  {
   "cell_type": "code",
   "execution_count": 136,
   "id": "55dc05f7",
   "metadata": {},
   "outputs": [],
   "source": [
    "normalised_data = scaler.fit_transform(merged_indicators)"
   ]
  },
  {
   "cell_type": "code",
   "execution_count": 137,
   "id": "9274c685",
   "metadata": {},
   "outputs": [],
   "source": [
    "indicators = [ \"GDP\",\"PPI\",\"Interest Rates\",\"CPI\"]\n",
    "df_normalized = pd.DataFrame(normalised_data, columns=indicators)"
   ]
  },
  {
   "cell_type": "code",
   "execution_count": 138,
   "id": "f2f9b90e",
   "metadata": {},
   "outputs": [],
   "source": [
    "df_normalized.insert(0,\"Date\",date)"
   ]
  },
  {
   "cell_type": "code",
   "execution_count": 140,
   "id": "f095cc23",
   "metadata": {},
   "outputs": [],
   "source": [
    "excel_file_path = 'UK_normalised_indicators_9.xlsx'\n",
    "\n",
    "# Save the DataFrame to CSV\n",
    "df_normalized.to_excel(excel_file_path, index=False)"
   ]
  },
  {
   "cell_type": "code",
   "execution_count": null,
   "id": "66acc25c",
   "metadata": {},
   "outputs": [],
   "source": []
  }
 ],
 "metadata": {
  "kernelspec": {
   "display_name": "Python 3 (ipykernel)",
   "language": "python",
   "name": "python3"
  },
  "language_info": {
   "codemirror_mode": {
    "name": "ipython",
    "version": 3
   },
   "file_extension": ".py",
   "mimetype": "text/x-python",
   "name": "python",
   "nbconvert_exporter": "python",
   "pygments_lexer": "ipython3",
   "version": "3.10.9"
  }
 },
 "nbformat": 4,
 "nbformat_minor": 5
}
